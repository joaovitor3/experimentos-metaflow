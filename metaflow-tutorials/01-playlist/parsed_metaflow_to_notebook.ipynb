{
 "cells": [
  {
   "cell_type": "code",
   "execution_count": 1,
   "id": "483b8b2d",
   "metadata": {},
   "outputs": [],
   "source": [
    "import csv\n",
    "with open('movies.csv') as csvfile:\n",
    "    reader = csv.DictReader(csvfile)\n",
    "    headers = reader.fieldnames\n",
    "    dataframe = {header: [] for header in headers if header in ['movie_title', 'genres']}\n",
    "    for row in reader:\n",
    "        for col in dataframe:\n",
    "            dataframe[col].append(row[col])"
   ]
  },
  {
   "cell_type": "code",
   "execution_count": 2,
   "id": "a51e3a51",
   "metadata": {},
   "outputs": [],
   "source": [
    "default_genre = 'Sci-Fi'\n",
    "default_recommendations = 5\n",
    "\n",
    "\n",
    "# Find all the movies that are not in the provided genre.\n",
    "movies = [(movie, genres) \\\n",
    "          for movie, genres \\\n",
    "          in zip(dataframe['movie_title'],\n",
    "                 dataframe['genres']) \\\n",
    "          if default_genre.lower() not in genres.lower()]\n",
    "\n",
    "from random import choice\n",
    "\n",
    "# Choose one randomly.\n",
    "bonus = choice(movies)"
   ]
  },
  {
   "cell_type": "code",
   "execution_count": 3,
   "id": "42f52fd4",
   "metadata": {},
   "outputs": [],
   "source": [
    "movies = [movie \\\n",
    "          for movie, genres \\\n",
    "          in zip(dataframe['movie_title'],\n",
    "                 dataframe['genres']) \\\n",
    "          if default_genre.lower() in genres.lower()]\n",
    "\n",
    "from random import shuffle\n",
    "\n",
    "# Randomize the title names.\n",
    "shuffle(movies)"
   ]
  },
  {
   "cell_type": "code",
   "execution_count": 4,
   "id": "2ed677b1",
   "metadata": {},
   "outputs": [
    {
     "name": "stdout",
     "output_type": "stream",
     "text": [
      "Playlist for movies in genre 'Sci-Fi'\n",
      "Pick 1: 'Waterworld'\n",
      "Pick 2: 'Digimon: The Movie'\n",
      "Pick 3: 'Repo! The Genetic Opera'\n",
      "Pick 4: 'Predator'\n",
      "Pick 5: 'Mars Attacks!'\n",
      "Bonus Pick: 'Kick-Ass 2' from 'Action|Comedy|Crime'\n"
     ]
    }
   ],
   "source": [
    "# Reassign relevant variables from our branches.\n",
    "playlist = movies\n",
    "bonus = bonus\n",
    "\n",
    "print(\"Playlist for movies in genre '%s'\" % default_genre)\n",
    "for pick, movie in enumerate(playlist, start=1):\n",
    "    print(\"Pick %d: '%s'\" % (pick, movie))\n",
    "    if pick >= default_recommendations:\n",
    "        break\n",
    "\n",
    "print(\"Bonus Pick: '%s' from '%s'\" % (bonus[0], bonus[1]))"
   ]
  }
 ],
 "metadata": {
  "kernelspec": {
   "display_name": "Python 3 (ipykernel)",
   "language": "python",
   "name": "python3"
  },
  "language_info": {
   "codemirror_mode": {
    "name": "ipython",
    "version": 3
   },
   "file_extension": ".py",
   "mimetype": "text/x-python",
   "name": "python",
   "nbconvert_exporter": "python",
   "pygments_lexer": "ipython3",
   "version": "3.8.2"
  }
 },
 "nbformat": 4,
 "nbformat_minor": 5
}
